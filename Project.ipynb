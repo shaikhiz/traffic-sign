{
 "cells": [
  {
   "cell_type": "code",
   "execution_count": 2,
   "id": "4505fc3e",
   "metadata": {},
   "outputs": [
    {
     "name": "stderr",
     "output_type": "stream",
     "text": [
      "/var/folders/tk/mrjkyqms0651_r4m4qvb9xz00000gn/T/ipykernel_8651/405135596.py:9: DeprecationWarning: `import kerastuner` is deprecated, please use `import keras_tuner`.\n",
      "  from kerastuner import RandomSearch\n"
     ]
    }
   ],
   "source": [
    "import numpy as np \n",
    "import pandas as pd \n",
    "from PIL import Image,ImageTk\n",
    "import os\n",
    "import cv2\n",
    "import bs4\n",
    "import xml.etree.ElementTree as ET\n",
    "from keras.utils import to_categorical\n",
    "from kerastuner import RandomSearch\n",
    "from sklearn.model_selection import train_test_split\n",
    "from keras.models import Sequential\n",
    "from keras.layers import Conv2D,MaxPool2D,Dropout,Flatten,Dense\n",
    "\n",
    "import seaborn as sns\n",
    "import matplotlib.pyplot as plt\n",
    "import tensorflow as tf\n",
    "tf.random.set_seed(300)"
   ]
  },
  {
   "cell_type": "code",
   "execution_count": 8,
   "id": "8e1345d9",
   "metadata": {},
   "outputs": [],
   "source": [
    "labels_path = 'RSD/annotations'\n",
    "img_path = 'RSD/images'"
   ]
  },
  {
   "cell_type": "code",
   "execution_count": 57,
   "id": "21acd821",
   "metadata": {
    "scrolled": true
   },
   "outputs": [],
   "source": [
    "ann_path = 'RSD/annotations'\n",
    "img_path = 'RSD/images'\n",
    "\n",
    "for ann_file in os.listdir(ann_path):\n",
    "    tree = ET.parse(os.path.join(ann_path, ann_file))\n",
    "    root = tree.getroot()\n",
    "    for obj in root.findall('object'):\n",
    "        xmin = int(obj.find('bndbox/xmin').text)\n",
    "        ymin = int(obj.find('bndbox/ymin').text)\n",
    "        xmax = int(obj.find('bndbox/xmax').text)\n",
    "        ymax = int(obj.find('bndbox/ymax').text)\n",
    "        label = obj.find('name').text\n",
    "        img_file = ann_file[:-4] + '.png'\n",
    "        img = cv2.imread(os.path.join(img_path, img_file))\n",
    "        img = cv2.cvtColor(img, cv2.COLOR_BGR2RGB)\n",
    "        #cv2.rectangle(img, (xmin, ymin), (xmax, ymax), (255, 0, 0), 2)\n",
    "        #plt.imshow(img)\n",
    "        #plt.title(label)\n",
    "        #plt.show()\n"
   ]
  },
  {
   "cell_type": "code",
   "execution_count": 9,
   "id": "aa980253",
   "metadata": {},
   "outputs": [
    {
     "data": {
      "text/html": [
       "<div>\n",
       "<style scoped>\n",
       "    .dataframe tbody tr th:only-of-type {\n",
       "        vertical-align: middle;\n",
       "    }\n",
       "\n",
       "    .dataframe tbody tr th {\n",
       "        vertical-align: top;\n",
       "    }\n",
       "\n",
       "    .dataframe thead th {\n",
       "        text-align: right;\n",
       "    }\n",
       "</style>\n",
       "<table border=\"1\" class=\"dataframe\">\n",
       "  <thead>\n",
       "    <tr style=\"text-align: right;\">\n",
       "      <th></th>\n",
       "      <th>f_name</th>\n",
       "      <th>path_name</th>\n",
       "      <th>width</th>\n",
       "      <th>height</th>\n",
       "      <th>depth</th>\n",
       "      <th>class_name</th>\n",
       "    </tr>\n",
       "  </thead>\n",
       "  <tbody>\n",
       "    <tr>\n",
       "      <th>0</th>\n",
       "      <td>road712.xml</td>\n",
       "      <td>images/road712.png</td>\n",
       "      <td>300</td>\n",
       "      <td>400</td>\n",
       "      <td>3</td>\n",
       "      <td>2</td>\n",
       "    </tr>\n",
       "    <tr>\n",
       "      <th>1</th>\n",
       "      <td>road706.xml</td>\n",
       "      <td>images/road706.png</td>\n",
       "      <td>300</td>\n",
       "      <td>400</td>\n",
       "      <td>3</td>\n",
       "      <td>2</td>\n",
       "    </tr>\n",
       "    <tr>\n",
       "      <th>2</th>\n",
       "      <td>road289.xml</td>\n",
       "      <td>images/road289.png</td>\n",
       "      <td>300</td>\n",
       "      <td>400</td>\n",
       "      <td>3</td>\n",
       "      <td>4</td>\n",
       "    </tr>\n",
       "    <tr>\n",
       "      <th>3</th>\n",
       "      <td>road538.xml</td>\n",
       "      <td>images/road538.png</td>\n",
       "      <td>300</td>\n",
       "      <td>400</td>\n",
       "      <td>3</td>\n",
       "      <td>2</td>\n",
       "    </tr>\n",
       "    <tr>\n",
       "      <th>4</th>\n",
       "      <td>road510.xml</td>\n",
       "      <td>images/road510.png</td>\n",
       "      <td>300</td>\n",
       "      <td>400</td>\n",
       "      <td>3</td>\n",
       "      <td>2</td>\n",
       "    </tr>\n",
       "  </tbody>\n",
       "</table>\n",
       "</div>"
      ],
      "text/plain": [
       "        f_name           path_name  width  height  depth  class_name\n",
       "0  road712.xml  images/road712.png    300     400      3           2\n",
       "1  road706.xml  images/road706.png    300     400      3           2\n",
       "2  road289.xml  images/road289.png    300     400      3           4\n",
       "3  road538.xml  images/road538.png    300     400      3           2\n",
       "4  road510.xml  images/road510.png    300     400      3           2"
      ]
     },
     "execution_count": 9,
     "metadata": {},
     "output_type": "execute_result"
    }
   ],
   "source": [
    "#path=\"RSD/annotations\"\n",
    "content=[]\n",
    "\n",
    "for filename in os.listdir(labels_path):\n",
    "    if not filename.endswith('.xml'): continue\n",
    "    finalpath= os.path.join(labels_path, filename)\n",
    "\n",
    "    infile = open(finalpath,\"r\")\n",
    "    contents = infile.read()\n",
    "    soup = bs4.BeautifulSoup(contents,'xml')\n",
    "    class_name=soup.find_all(\"name\")\n",
    "    name = soup.find_all('filename')\n",
    "    width= soup.find_all(\"width\")\n",
    "    height=soup.find_all(\"height\")\n",
    "    depth=soup.find_all(\"depth\")\n",
    "    \n",
    "    ls=[]\n",
    "    for x in range(0,len(name)):\n",
    "        for i in name:\n",
    "            name=name[x].get_text()\n",
    "            path_name=\"images/\"+name\n",
    "        class_name=class_name[x].get_text()\n",
    "        height=int(height[x].get_text())\n",
    "        depth=int(depth[x].get_text())\n",
    "        width=int(width[x].get_text())\n",
    "        f_name=filename\n",
    "        ls.extend([f_name,path_name,width,height,depth,class_name])\n",
    "\n",
    "    content.append(ls)\n",
    "\n",
    "column_names = [\"f_name\",\"path_name\", \"width\",\"height\",\"depth\",\"class_name\"]\n",
    "data = pd.DataFrame(data = content, columns = column_names)\n",
    "data.class_name=data.class_name.map({'trafficlight':1, 'speedlimit':2, 'crosswalk':3, 'stop':4})\n",
    "data.head()\n",
    "\n"
   ]
  },
  {
   "cell_type": "code",
   "execution_count": 11,
   "id": "f6d9f5f0",
   "metadata": {},
   "outputs": [],
   "source": [
    "data1=[]\n",
    "\n",
    "for v in data.path_name.values:\n",
    "    image = Image.open(\"RSD/\"+v).convert(\"RGB\")\n",
    "    image=image.resize((224,224),Image.ANTIALIAS)\n",
    "    image=np.array(image.getdata()).reshape(224,224,3)\n",
    "    data1.append(image)"
   ]
  },
  {
   "cell_type": "code",
   "execution_count": 12,
   "id": "f3c3ec87",
   "metadata": {},
   "outputs": [
    {
     "name": "stdout",
     "output_type": "stream",
     "text": [
      "(701, 224, 224, 3) (176, 224, 224, 3) (701, 4) (176, 4)\n"
     ]
    }
   ],
   "source": [
    "X=np.array(data1)\n",
    "\n",
    "y=np.array(data.iloc[:,-1],dtype=int)\n",
    "c=to_categorical(y,dtype=int)\n",
    "Y=c[:,1:]\n",
    "\n",
    "X_train, X_test, y_train, y_test = train_test_split(X, Y, test_size=0.2, random_state=300)\n",
    "\n",
    "print(X_train.shape, X_test.shape, y_train.shape, y_test.shape)"
   ]
  },
  {
   "cell_type": "code",
   "execution_count": 20,
   "id": "0832b279",
   "metadata": {},
   "outputs": [
    {
     "data": {
      "text/html": [
       "<div>\n",
       "<style scoped>\n",
       "    .dataframe tbody tr th:only-of-type {\n",
       "        vertical-align: middle;\n",
       "    }\n",
       "\n",
       "    .dataframe tbody tr th {\n",
       "        vertical-align: top;\n",
       "    }\n",
       "\n",
       "    .dataframe thead th {\n",
       "        text-align: right;\n",
       "    }\n",
       "</style>\n",
       "<table border=\"1\" class=\"dataframe\">\n",
       "  <thead>\n",
       "    <tr style=\"text-align: right;\">\n",
       "      <th></th>\n",
       "      <th>f_name</th>\n",
       "      <th>path_name</th>\n",
       "      <th>width</th>\n",
       "      <th>height</th>\n",
       "      <th>depth</th>\n",
       "      <th>class_name</th>\n",
       "    </tr>\n",
       "  </thead>\n",
       "  <tbody>\n",
       "    <tr>\n",
       "      <th>0</th>\n",
       "      <td>road712.xml</td>\n",
       "      <td>images/road712.png</td>\n",
       "      <td>300</td>\n",
       "      <td>400</td>\n",
       "      <td>3</td>\n",
       "      <td>2</td>\n",
       "    </tr>\n",
       "    <tr>\n",
       "      <th>1</th>\n",
       "      <td>road706.xml</td>\n",
       "      <td>images/road706.png</td>\n",
       "      <td>300</td>\n",
       "      <td>400</td>\n",
       "      <td>3</td>\n",
       "      <td>2</td>\n",
       "    </tr>\n",
       "    <tr>\n",
       "      <th>2</th>\n",
       "      <td>road289.xml</td>\n",
       "      <td>images/road289.png</td>\n",
       "      <td>300</td>\n",
       "      <td>400</td>\n",
       "      <td>3</td>\n",
       "      <td>4</td>\n",
       "    </tr>\n",
       "    <tr>\n",
       "      <th>3</th>\n",
       "      <td>road538.xml</td>\n",
       "      <td>images/road538.png</td>\n",
       "      <td>300</td>\n",
       "      <td>400</td>\n",
       "      <td>3</td>\n",
       "      <td>2</td>\n",
       "    </tr>\n",
       "    <tr>\n",
       "      <th>4</th>\n",
       "      <td>road510.xml</td>\n",
       "      <td>images/road510.png</td>\n",
       "      <td>300</td>\n",
       "      <td>400</td>\n",
       "      <td>3</td>\n",
       "      <td>2</td>\n",
       "    </tr>\n",
       "    <tr>\n",
       "      <th>...</th>\n",
       "      <td>...</td>\n",
       "      <td>...</td>\n",
       "      <td>...</td>\n",
       "      <td>...</td>\n",
       "      <td>...</td>\n",
       "      <td>...</td>\n",
       "    </tr>\n",
       "    <tr>\n",
       "      <th>872</th>\n",
       "      <td>road535.xml</td>\n",
       "      <td>images/road535.png</td>\n",
       "      <td>300</td>\n",
       "      <td>400</td>\n",
       "      <td>3</td>\n",
       "      <td>2</td>\n",
       "    </tr>\n",
       "    <tr>\n",
       "      <th>873</th>\n",
       "      <td>road284.xml</td>\n",
       "      <td>images/road284.png</td>\n",
       "      <td>300</td>\n",
       "      <td>400</td>\n",
       "      <td>3</td>\n",
       "      <td>2</td>\n",
       "    </tr>\n",
       "    <tr>\n",
       "      <th>874</th>\n",
       "      <td>road290.xml</td>\n",
       "      <td>images/road290.png</td>\n",
       "      <td>300</td>\n",
       "      <td>400</td>\n",
       "      <td>3</td>\n",
       "      <td>2</td>\n",
       "    </tr>\n",
       "    <tr>\n",
       "      <th>875</th>\n",
       "      <td>road723.xml</td>\n",
       "      <td>images/road723.png</td>\n",
       "      <td>300</td>\n",
       "      <td>400</td>\n",
       "      <td>3</td>\n",
       "      <td>2</td>\n",
       "    </tr>\n",
       "    <tr>\n",
       "      <th>876</th>\n",
       "      <td>road737.xml</td>\n",
       "      <td>images/road737.png</td>\n",
       "      <td>300</td>\n",
       "      <td>400</td>\n",
       "      <td>3</td>\n",
       "      <td>2</td>\n",
       "    </tr>\n",
       "  </tbody>\n",
       "</table>\n",
       "<p>877 rows × 6 columns</p>\n",
       "</div>"
      ],
      "text/plain": [
       "          f_name           path_name  width  height  depth  class_name\n",
       "0    road712.xml  images/road712.png    300     400      3           2\n",
       "1    road706.xml  images/road706.png    300     400      3           2\n",
       "2    road289.xml  images/road289.png    300     400      3           4\n",
       "3    road538.xml  images/road538.png    300     400      3           2\n",
       "4    road510.xml  images/road510.png    300     400      3           2\n",
       "..           ...                 ...    ...     ...    ...         ...\n",
       "872  road535.xml  images/road535.png    300     400      3           2\n",
       "873  road284.xml  images/road284.png    300     400      3           2\n",
       "874  road290.xml  images/road290.png    300     400      3           2\n",
       "875  road723.xml  images/road723.png    300     400      3           2\n",
       "876  road737.xml  images/road737.png    300     400      3           2\n",
       "\n",
       "[877 rows x 6 columns]"
      ]
     },
     "execution_count": 20,
     "metadata": {},
     "output_type": "execute_result"
    }
   ],
   "source": [
    "data.head()"
   ]
  },
  {
   "cell_type": "code",
   "execution_count": 28,
   "id": "97c1088f",
   "metadata": {},
   "outputs": [
    {
     "data": {
      "image/png": "[encoded data removed]",
      "text/plain": [
       "<Figure size 432x288 with 1 Axes>"
      ]
     },
     "metadata": {
      "needs_background": "light"
     },
     "output_type": "display_data"
    }
   ],
   "source": [
    "class_counts = data['class_name'].value_counts().sort_index()\n",
    "class_labels = ['trafficlight', 'speedlimit', 'crosswalk', 'stop']\n",
    "class_counts.plot(kind='bar')\n",
    "plt.title('Class Distribution')\n",
    "plt.xlabel('Class Label')\n",
    "plt.ylabel('Number of Images')\n",
    "plt.xticks(np.arange(len(class_labels)), class_labels)\n",
    "plt.show()\n"
   ]
  },
  {
   "cell_type": "code",
   "execution_count": 29,
   "id": "40054703",
   "metadata": {},
   "outputs": [
    {
     "data": {
      "image/png": "[encoded data removed]",
      "text/plain": [
       "<Figure size 432x288 with 1 Axes>"
      ]
     },
     "metadata": {
      "needs_background": "light"
     },
     "output_type": "display_data"
    }
   ],
   "source": [
    "dims = data[['width', 'height']]\n",
    "dims.boxplot()\n",
    "plt.title('Image Dimensions')\n",
    "plt.xlabel('Dimension')\n",
    "plt.ylabel('Value')\n",
    "plt.show()\n"
   ]
  },
  {
   "cell_type": "code",
   "execution_count": 30,
   "id": "c82ce97d",
   "metadata": {},
   "outputs": [],
   "source": [
    "model = Sequential()\n",
    "model.add(Conv2D(128, kernel_size=(5,5), activation='relu', input_shape=X_train.shape[1:]))\n",
    "model.add(Conv2D(128, kernel_size=(5,5), activation='relu'))\n",
    "model.add(MaxPool2D(pool_size=(2, 2)))\n",
    "model.add(Dropout(rate=0.25))\n",
    "model.add(Conv2D(256, kernel_size=(3, 3), activation='relu'))\n",
    "model.add(Conv2D(256, kernel_size=(3, 3), activation='relu'))\n",
    "model.add(MaxPool2D(pool_size=(2, 2)))\n",
    "model.add(Dropout(rate=0.25))\n",
    "model.add(Conv2D(128, kernel_size=(3, 3), activation='relu'))\n",
    "model.add(Conv2D(128, kernel_size=(3, 3), activation='relu'))\n",
    "model.add(MaxPool2D(pool_size=(2, 2)))\n",
    "model.add(Dropout(rate=0.25))\n",
    "model.add(Conv2D(128, kernel_size=(3, 3), activation='relu'))\n",
    "model.add(Conv2D(128, kernel_size=(3, 3), activation='relu'))\n",
    "model.add(MaxPool2D(pool_size=(2, 2)))\n",
    "model.add(Dropout(rate=0.25))\n",
    "model.add(Flatten())\n",
    "model.add(Dense(256, activation='relu'))\n",
    "model.add(Dense(128, activation='relu'))\n",
    "model.add(Dense(64, activation='relu'))\n",
    "model.add(Dropout(rate=0.5))\n",
    "model.add(Dense(4, activation='softmax'))\n",
    "\n",
    "model.compile(loss='categorical_crossentropy', optimizer='adam', metrics=['acc'])\n",
    "\n"
   ]
  },
  {
   "cell_type": "code",
   "execution_count": 41,
   "id": "0cd1a6b8",
   "metadata": {},
   "outputs": [],
   "source": [
    "from keras.callbacks import ModelCheckpoint\n",
    "filepath=\"/Traffic_Sign_Classifier_Project.hdf5\"\n",
    "cp_callback = tf.keras.callbacks.ModelCheckpoint(filepath=filepath,\n",
    "                                                 save_weights_only=True,\n",
    "                                                 verbose=1)\n",
    "callbacks_list_conv = [cp_callback]"
   ]
  },
  {
   "cell_type": "code",
   "execution_count": 43,
   "id": "890e7bae",
   "metadata": {},
   "outputs": [
    {
     "name": "stdout",
     "output_type": "stream",
     "text": [
      "Epoch 1/4\n",
      "11/11 [==============================] - 1778s 159s/step - loss: 0.8534 - acc: 0.7461 - val_loss: 0.8806 - val_acc: 0.7330\n",
      "Epoch 2/4\n",
      "11/11 [==============================] - 1694s 155s/step - loss: 0.8122 - acc: 0.7461 - val_loss: 0.7845 - val_acc: 0.7330\n",
      "Epoch 3/4\n",
      "11/11 [==============================] - 1395s 124s/step - loss: 0.8394 - acc: 0.7575 - val_loss: 0.7839 - val_acc: 0.7614\n",
      "Epoch 4/4\n",
      "11/11 [==============================] - 1300s 120s/step - loss: 0.8602 - acc: 0.7432 - val_loss: 0.8090 - val_acc: 0.7386\n"
     ]
    }
   ],
   "source": [
    "history = model.fit(X_train, y_train, batch_size=64, epochs=4, validation_data=(X_test, y_test))"
   ]
  },
  {
   "cell_type": "code",
   "execution_count": 56,
   "id": "456172cf",
   "metadata": {},
   "outputs": [],
   "source": [
    "model.save(\"model.h5\")"
   ]
  },
  {
   "cell_type": "code",
   "execution_count": 46,
   "id": "00494f06",
   "metadata": {},
   "outputs": [
    {
     "name": "stdout",
     "output_type": "stream",
     "text": [
      "6/6 [==============================] - 74s 12s/step - loss: 0.8090 - acc: 0.7386\n",
      "Test accuracy: 0.7386363744735718\n"
     ]
    }
   ],
   "source": [
    "loss, accuracy = model.evaluate(X_test, y_test)\n",
    "print('Test accuracy:', accuracy)\n"
   ]
  },
  {
   "cell_type": "code",
   "execution_count": 49,
   "id": "cf1016f7",
   "metadata": {},
   "outputs": [
    {
     "data": {
      "image/png": "[encoded data removed]",
      "text/plain": [
       "<Figure size 576x576 with 2 Axes>"
      ]
     },
     "metadata": {
      "needs_background": "light"
     },
     "output_type": "display_data"
    }
   ],
   "source": [
    "acc = history.history.get('accuracy', history.history.get('acc'))\n",
    "val_acc = history.history.get('val_accuracy', history.history.get('val_acc'))\n",
    "loss = history.history.get('loss')\n",
    "val_loss = history.history.get('val_loss')\n",
    "\n",
    "# Plot accuracy and loss\n",
    "epochs_range = range(4)\n",
    "\n",
    "plt.figure(figsize=(8, 8))\n",
    "plt.subplot(1, 2, 1)\n",
    "plt.plot(epochs_range, acc, label='Training Accuracy')\n",
    "plt.plot(epochs_range, val_acc, label='Validation Accuracy')\n",
    "plt.legend(loc='lower right')\n",
    "plt.title('Training and Validation Accuracy')\n",
    "\n",
    "plt.subplot(1, 2, 2)\n",
    "plt.plot(epochs_range, loss, label='Training Loss')\n",
    "plt.plot(epochs_range, val_loss, label='Validation Loss')\n",
    "plt.legend(loc='upper right')\n",
    "plt.title('Training and Validation Loss')\n",
    "plt.show()"
   ]
  },
  {
   "cell_type": "code",
   "execution_count": null,
   "id": "7cf1f9d3",
   "metadata": {},
   "outputs": [],
   "source": []
  }
 ],
 "metadata": {
  "kernelspec": {
   "display_name": "Python 3 (ipykernel)",
   "language": "python",
   "name": "python3"
  },
  "language_info": {
   "codemirror_mode": {
    "name": "ipython",
    "version": 3
   },
   "file_extension": ".py",
   "mimetype": "text/x-python",
   "name": "python",
   "nbconvert_exporter": "python",
   "pygments_lexer": "ipython3",
   "version": "3.8.2"
  }
 },
 "nbformat": 4,
 "nbformat_minor": 5
}
